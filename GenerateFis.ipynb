{
 "cells": [
  {
   "cell_type": "code",
   "execution_count": 1,
   "metadata": {},
   "outputs": [],
   "source": [
    "import numpy as np \n",
    "import pandas as pd"
   ]
  },
  {
   "cell_type": "code",
   "execution_count": 5,
   "metadata": {},
   "outputs": [],
   "source": [
    "def GenerateFis(df):\n",
    "    \n",
    "    def split(data):\n",
    "        return [data[0:7], data[7:14], data[14:21], data[21:28], data[29:]]\n",
    "\n",
    "    def holiday(df):\n",
    "        condition_holiday = (\n",
    "        (df.DATE.dt.month == 1) & ((df.DATE.dt.day >= 1) & (df.DATE.dt.day <= 8)) # winter\n",
    "        | (df.DATE.dt.month == 2) & ((df.DATE.dt.day >= 21) & (df.DATE.dt.day <= 25)) # around 23 feb\n",
    "        | (df.DATE.dt.month == 3) & ((df.DATE.dt.day >= 6) & (df.DATE.dt.day <= 10)) # around 8 mar\n",
    "        | (df.DATE.dt.month == 5) & ((df.DATE.dt.day >= 1) & (df.DATE.dt.day <= 10)) # may\n",
    "        | (df.DATE.dt.month == 6) & ((df.DATE.dt.day >= 10) & (df.DATE.dt.day <= 14)) # around 12 june\n",
    "        | (df.DATE.dt.month == 11) & ((df.DATE.dt.day >= 2) & (df.DATE.dt.day <= 6)) # around 4 nov\n",
    "        )\n",
    "        return condition_holiday + 0\n",
    "    \n",
    "    def shift(df, i):\n",
    "        for n in [1,2,3,4,5]:\n",
    "            N = n + i \n",
    "            df['out_{}_weeks_ago'.format(N)] = df.CLIENT_OUT.shift(7*N)\n",
    "            df['out_{}_weeks_ago_plus_day'.format(N)] = df.CLIENT_OUT.shift(7*N-1)\n",
    "            df['out_{}_weeks_ago_minus_day'.format(N)] = df.CLIENT_OUT.shift(7*N+1)\n",
    "        return df\n",
    "    \n",
    "    df['month_of_year'] = df.DATE.dt.month\n",
    "    df['day_of_week'] = df.DATE.dt.dayofweek\n",
    "    df['day_of_month'] = df.DATE.dt.day\n",
    "    df['week_of_month'] = (df.DATE.dt.day  - 1) // 7 + 1\n",
    "    df['holiday_dummy'] = holiday(df)\n",
    "    \n",
    "    list_dummies = ['day_of_week', \n",
    "                'day_of_month',\n",
    "                'week_of_month',\n",
    "                'month_of_year']\n",
    "    df = pd.get_dummies(df, columns=list_dummies)\n",
    "    \n",
    "    df_splitted = split(df)\n",
    "    for i, d in enumerate(df_splitted):\n",
    "        df_splitted[i] = shift(d, i)\n",
    "    \n",
    "    return df_splitted"
   ]
  }
 ],
 "metadata": {
  "kernelspec": {
   "display_name": "Python 3",
   "language": "python",
   "name": "python3"
  },
  "language_info": {
   "codemirror_mode": {
    "name": "ipython",
    "version": 3
   },
   "file_extension": ".py",
   "mimetype": "text/x-python",
   "name": "python",
   "nbconvert_exporter": "python",
   "pygments_lexer": "ipython3",
   "version": "3.6.4"
  }
 },
 "nbformat": 4,
 "nbformat_minor": 2
}
